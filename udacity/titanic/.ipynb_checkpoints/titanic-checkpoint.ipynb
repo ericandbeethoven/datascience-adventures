{
 "metadata": {
  "name": "",
  "signature": "sha256:d2ac3a610e8d1fae476bf9707ab14777859b7d11ff9921c959c4e52cba268444"
 },
 "nbformat": 3,
 "nbformat_minor": 0,
 "worksheets": [
  {
   "cells": [
    {
     "cell_type": "heading",
     "level": 1,
     "metadata": {},
     "source": [
      "Introduction"
     ]
    },
    {
     "cell_type": "heading",
     "level": 1,
     "metadata": {},
     "source": [
      "Data Description"
     ]
    },
    {
     "cell_type": "markdown",
     "metadata": {},
     "source": [
      "Ref: http://www.kaggle.com/c/titanic-gettingStarted\n",
      "\n",
      "### VARIABLE DESCRIPTIONS:\n",
      "```\n",
      "survival        Survival\n",
      "                (0 = No; 1 = Yes)\n",
      "pclass          Passenger Class\n",
      "                (1 = 1st; 2 = 2nd; 3 = 3rd)\n",
      "name            Name\n",
      "sex             Sex\n",
      "age             Age\n",
      "sibsp           Number of Siblings/Spouses Aboard\n",
      "parch           Number of Parents/Children Aboard\n",
      "ticket          Ticket Number\n",
      "fare            Passenger Fare\n",
      "cabin           Cabin\n",
      "embarked        Port of Embarkation\n",
      "                (C = Cherbourg; Q = Queenstown; S = Southampton)\n",
      "```\n",
      "\n",
      "### SPECIAL NOTES:\n",
      "Pclass is a proxy for socio-economic status (SES)\n",
      "``` \n",
      "1st ~ Upper; 2nd ~ Middle; 3rd ~ Lower \n",
      "```\n",
      "\n",
      "Age is in Years; Fractional if Age less than One (1)\n",
      "\n",
      "If the Age is Estimated, it is in the form xx.5\n",
      "\n",
      "With respect to the family relation variables (i.e. sibsp and parch)\n",
      "some relations were ignored.  The following are the definitions used\n",
      "for sibsp and parch.\n",
      "\n",
      "```\n",
      "Sibling:  Brother, Sister, Stepbrother, or Stepsister of Passenger Aboard Titanic\n",
      "Spouse:   Husband or Wife of Passenger Aboard Titanic (Mistresses and Fiances Ignored)\n",
      "Parent:   Mother or Father of Passenger Aboard Titanic\n",
      "Child:    Son, Daughter, Stepson, or Stepdaughter of Passenger Aboard Titanic\n",
      "```\n",
      "\n",
      "Other family relatives excluded from this study include cousins,\n",
      "nephews/nieces, aunts/uncles, and in-laws.  Some children travelled\n",
      "only with a nanny, therefore parch=0 for them.  As well, some\n",
      "travelled with very close friends or neighbors in a village, however,\n",
      "the definitions do not support such relations."
     ]
    },
    {
     "cell_type": "heading",
     "level": 1,
     "metadata": {},
     "source": [
      "Code"
     ]
    },
    {
     "cell_type": "heading",
     "level": 4,
     "metadata": {},
     "source": [
      "Import the required libraries"
     ]
    },
    {
     "cell_type": "code",
     "collapsed": false,
     "input": [
      "import numpy\n",
      "import pandas\n",
      "import statsmodels.api as sm\n",
      "\n",
      "path = 'data/titanic_data.csv' # data path"
     ],
     "language": "python",
     "metadata": {},
     "outputs": [],
     "prompt_number": 42
    },
    {
     "cell_type": "heading",
     "level": 2,
     "metadata": {},
     "source": [
      "Simple heuristic (>=78%)"
     ]
    },
    {
     "cell_type": "raw",
     "metadata": {},
     "source": [
      "    In this exercise, we will perform some rudimentary practices similar to those of\n",
      "    an actual data scientist.\n",
      "    \n",
      "    Part of a data scientist's job is to use her or his intuition and insight to\n",
      "    write algorithms and heuristics. A data scientist also creates mathematical models \n",
      "    to make predictions based on some attributes from the data that they are examining.\n",
      "\n",
      "    We would like for you to take your knowledge and intuition about the Titanic\n",
      "    and its passengers' attributes to predict whether or not the passengers survived\n",
      "    or perished. You can read more about the Titanic and specifics about this dataset at:\n",
      "    http://en.wikipedia.org/wiki/RMS_Titanic\n",
      "    http://www.kaggle.com/c/titanic-gettingStarted\n",
      "        \n",
      "    In this exercise and the following ones, you are given a list of Titantic passengers\n",
      "    and their associated information. More information about the data can be seen at the \n",
      "    link below:\n",
      "    http://www.kaggle.com/c/titanic-gettingStarted/data. \n",
      "\n",
      "    For this exercise, you need to write a simple heuristic that will use\n",
      "    the passengers' gender to predict if that person survived the Titanic diaster.\n",
      "    \n",
      "    You prediction should be 78% accurate or higher.\n",
      "        \n",
      "    Here's a simple heuristic to start off:\n",
      "       1) If the passenger is female, your heuristic should assume that the\n",
      "       passenger survived.\n",
      "       2) If the passenger is male, you heuristic should\n",
      "       assume that the passenger did not survive.\n",
      "    \n",
      "    You can access the gender of a passenger via passenger['Sex'].\n",
      "    If the passenger is male, passenger['Sex'] will return a string \"male\".\n",
      "    If the passenger is female, passenger['Sex'] will return a string \"female\".\n",
      "\n",
      "    Write your prediction back into the \"predictions\" dictionary. The\n",
      "    key of the dictionary should be the passenger's id (which can be accessed\n",
      "    via passenger[\"PassengerId\"]) and the associated value should be 1 if the\n",
      "    passenger survied or 0 otherwise.\n",
      "\n",
      "    For example, if a passenger is predicted to have survived:\n",
      "    passenger_id = passenger['PassengerId']\n",
      "    predictions[passenger_id] = 1\n",
      "\n",
      "    And if a passenger is predicted to have perished in the disaster:\n",
      "    passenger_id = passenger['PassengerId']\n",
      "    predictions[passenger_id] = 0\n",
      "    \n",
      "    You can also look at the Titantic data that you will be working with\n",
      "    at the link below:\n",
      "    https://www.dropbox.com/s/r5f9aos8p9ri9sa/titanic_data.csv"
     ]
    },
    {
     "cell_type": "code",
     "collapsed": false,
     "input": [
      "def simple_heuristic(file_path):\n",
      "    predictions = {}\n",
      "    df = pandas.read_csv(file_path)\n",
      "    for passenger_index, passenger in df.iterrows():\n",
      "        if passenger['Sex'] == 'male':\n",
      "            predictions[passenger['PassengerId']] = 0\n",
      "        elif passenger['Sex'] == 'female':\n",
      "            predictions[passenger['PassengerId']] = 1\n",
      "    return predictions"
     ],
     "language": "python",
     "metadata": {},
     "outputs": [],
     "prompt_number": 43
    },
    {
     "cell_type": "heading",
     "level": 4,
     "metadata": {},
     "source": [
      "Results from simple_heuristic()"
     ]
    },
    {
     "cell_type": "code",
     "collapsed": false,
     "input": [
      "predicted = simple_heuristic(path)\n",
      "print \"Your heuristic was 78.68% accurate. Good job!\" #according to Udacity's results"
     ],
     "language": "python",
     "metadata": {},
     "outputs": [
      {
       "output_type": "stream",
       "stream": "stdout",
       "text": [
        "Your heuristic was 78.68% accurate. Good job!\n"
       ]
      }
     ],
     "prompt_number": 44
    },
    {
     "cell_type": "heading",
     "level": 2,
     "metadata": {},
     "source": [
      "Complex heuristic (>=79%)"
     ]
    },
    {
     "cell_type": "raw",
     "metadata": {},
     "source": [
      "    For this exercise, you need to write a more sophisticated heuristic\n",
      "    that will use the passengers' gender and their socioeconomical class and age \n",
      "    to predict if they survived the Titanic diaster. \n",
      "    \n",
      "    You prediction should be 79% accurate or higher.\n",
      "    \n",
      "    If the passenger is female or if his/her socioeconomic status is high AND\n",
      "    if the passenger is under 18, you should assume the passenger survived.\n",
      "    Otherwise, you should assume the passenger perished in the disaster.\n",
      "    \n",
      "    Or more specifically in terms of coding: female or (high status and under 18)\n",
      "    \n",
      "    You can access the gender of a passenger via passenger['Sex'].\n",
      "    If the passenger is male, passenger['Sex'] will return a string \"male\".\n",
      "    If the passenger is female, passenger['Sex'] will return a string \"female\".\n",
      "    \n",
      "    You can access the socioeconomic status of a passenger via passenger['Pclass']:\n",
      "    High socioeconomic status -- passenger['Pclass'] is 1\n",
      "    Medium socioeconomic status -- passenger['Pclass'] is 2\n",
      "    Low socioeconomic status -- passenger['Pclass'] is 3\n",
      "\n",
      "    You can access the age of a passenger via passenger['Age'].\n",
      "    \n",
      "    Write your prediction back into the \"predictions\" dictionary. The\n",
      "    key of the dictionary should be the Passenger's id (which can be accessed\n",
      "    via passenger[\"PassengerId\"]) and the associated value should be 1 if the\n",
      "    passenger survived or 0 otherwise. \n",
      "\n",
      "    For example, if a passenger is predicted to have survived:\n",
      "    passenger_id = passenger['PassengerId']\n",
      "    predictions[passenger_id] = 1\n",
      "\n",
      "    And if a passenger is predicted to have perished in the disaster:\n",
      "    passenger_id = passenger['PassengerId']\n",
      "    predictions[passenger_id] = 0"
     ]
    },
    {
     "cell_type": "code",
     "collapsed": false,
     "input": [
      "def complex_heuristic(file_path):\n",
      "    predictions = {}\n",
      "    df = pandas.read_csv(file_path)\n",
      "    for passenger_index, passenger in df.iterrows():\n",
      "        if passenger['Sex'] == 'female':\n",
      "            predictions[passenger['PassengerId']] = 1\n",
      "        elif passenger['Pclass'] == 1 and passenger['Age'] <= 18:\n",
      "            predictions[passenger['PassengerId']] = 1\n",
      "        else:\n",
      "            predictions[passenger['PassengerId']] = 0\n",
      "    return predictions"
     ],
     "language": "python",
     "metadata": {},
     "outputs": [],
     "prompt_number": 45
    },
    {
     "cell_type": "heading",
     "level": 4,
     "metadata": {},
     "source": [
      "Results from complex_heuristic()"
     ]
    },
    {
     "cell_type": "code",
     "collapsed": false,
     "input": [
      "predicted = complex_heuristic(path)\n",
      "print \"Your heuristic was 79.01% accurate. Good job!\" #according to Udacity's results"
     ],
     "language": "python",
     "metadata": {},
     "outputs": [
      {
       "output_type": "stream",
       "stream": "stdout",
       "text": [
        "Your heuristic was 79.01% accurate. Good job!\n"
       ]
      }
     ],
     "prompt_number": 46
    },
    {
     "cell_type": "heading",
     "level": 2,
     "metadata": {},
     "source": [
      "Custom heuristic (>=80%)"
     ]
    },
    {
     "cell_type": "raw",
     "metadata": {},
     "source": [
      "    For this exercise, you need to write a custom heuristic that will take\n",
      "    in some combination of the passenger's attributes and predict if the passenger\n",
      "    survived the Titanic diaster.\n",
      "\n",
      "    Can your custom heuristic beat 80% accuracy?\n",
      "\n",
      "    Write your prediction back into the \"predictions\" dictionary. The\n",
      "    key of the dictionary should be the passenger's id (which can be accessed\n",
      "    via passenger[\"PassengerId\"]) and the associating value should be 1 if the\n",
      "    passenger survvied or 0 otherwise. \n",
      "\n",
      "    For example, if a passenger is predicted to have survived:\n",
      "    passenger_id = passenger['PassengerId']\n",
      "    predictions[passenger_id] = 1\n",
      "\n",
      "    And if a passenger is predicted to have perished in the disaster:\n",
      "    passenger_id = passenger['PassengerId']\n",
      "    predictions[passenger_id] = 0"
     ]
    },
    {
     "cell_type": "code",
     "collapsed": false,
     "input": [
      "def custom_heuristic(file_path):\n",
      "    predictions = {}\n",
      "    df = pandas.read_csv(file_path)\n",
      "    mean_fare_age = df[['Fare','Age']].apply(numpy.mean)\n",
      "    for passenger_index, passenger in df.iterrows():\n",
      "        if passenger['Sex'] == 'female':\n",
      "            predictions[passenger['PassengerId']] = 1\n",
      "        elif passenger['Pclass'] == 1 and passenger['Age'] < 18:\n",
      "            predictions[passenger['PassengerId']] = 1\n",
      "        elif passenger['Sex'] == 'female' and passenger['Pclass'] == 3:\n",
      "            predictions[passenger['PassengerId']] = 0\n",
      "        #elif passenger['Sex'] == 'male' and passenger['Pclass'] == 1:\n",
      "        #    predictions[passenger['PassengerId']] = 1\n",
      "        #elif passenger['Fare'] >= mean_fare_age['Fare'] and passenger['Age'] < mean_fare_age['Age']:\n",
      "        #    predictions[passenger['PassengerId']] = 1\n",
      "        else:\n",
      "            predictions[passenger['PassengerId']] = 0  \n",
      "    return predictions"
     ],
     "language": "python",
     "metadata": {},
     "outputs": [],
     "prompt_number": 47
    },
    {
     "cell_type": "heading",
     "level": 4,
     "metadata": {},
     "source": [
      "Results from custom_heuristic()"
     ]
    },
    {
     "cell_type": "code",
     "collapsed": false,
     "input": [
      "predicted = custom_heuristic('data/test.csv')\n",
      "#print \"Your heuristic was % accurate. Good job!\" #according to Udacity's results"
     ],
     "language": "python",
     "metadata": {},
     "outputs": [],
     "prompt_number": 48
    },
    {
     "cell_type": "heading",
     "level": 2,
     "metadata": {},
     "source": [
      "Dumping the output in kaggle's required format"
     ]
    },
    {
     "cell_type": "code",
     "collapsed": false,
     "input": [
      "import csv\n",
      "predictions_file = open(\"data/custom.csv\", \"wb\")\n",
      "open_file_object = csv.writer(predictions_file)\n",
      "open_file_object.writerow([\"PassengerId\",\"Survived\"])\n",
      "for key, value in predicted.items():\n",
      "    open_file_object.writerow([key, value])\n",
      "predictions_file.close()\n"
     ],
     "language": "python",
     "metadata": {},
     "outputs": [],
     "prompt_number": 49
    },
    {
     "cell_type": "heading",
     "level": 1,
     "metadata": {},
     "source": [
      "Experimental Section"
     ]
    },
    {
     "cell_type": "code",
     "collapsed": false,
     "input": [
      "df = pandas.read_csv(path)\n",
      "df[['Fare','Age']].apply(numpy.mean)"
     ],
     "language": "python",
     "metadata": {},
     "outputs": [
      {
       "metadata": {},
       "output_type": "pyout",
       "prompt_number": 50,
       "text": [
        "Fare    32.204208\n",
        "Age     29.699118\n",
        "dtype: float64"
       ]
      }
     ],
     "prompt_number": 50
    },
    {
     "cell_type": "code",
     "collapsed": false,
     "input": [
      "print df.shape\n",
      "print df.columns"
     ],
     "language": "python",
     "metadata": {},
     "outputs": [
      {
       "output_type": "stream",
       "stream": "stdout",
       "text": [
        "(891, 12)\n",
        "Index([u'PassengerId', u'Survived', u'Pclass', u'Name', u'Sex', u'Age', u'SibSp', u'Parch', u'Ticket', u'Fare', u'Cabin', u'Embarked'], dtype='object')\n"
       ]
      }
     ],
     "prompt_number": 51
    },
    {
     "cell_type": "code",
     "collapsed": false,
     "input": [
      "s = df['Survived']\n",
      "total = len(df.index)\n",
      "survived_actual = s[s.map(lambda x: x==1)].shape[0] # len(filter(lambda x: x==1, s))\n",
      "perished_actual = total - survived  # df.shape[0] - survived\n",
      "print \"Total passengers: %d\" % (total)\n",
      "print \"Actual Survived: %s | Actual Perished: %s\" % (survived_actual, perished_actual)"
     ],
     "language": "python",
     "metadata": {},
     "outputs": [
      {
       "ename": "NameError",
       "evalue": "name 'survived' is not defined",
       "output_type": "pyerr",
       "traceback": [
        "\u001b[1;31m---------------------------------------------------------------------------\u001b[0m\n\u001b[1;31mNameError\u001b[0m                                 Traceback (most recent call last)",
        "\u001b[1;32m<ipython-input-52-50a354f8381f>\u001b[0m in \u001b[0;36m<module>\u001b[1;34m()\u001b[0m\n\u001b[0;32m      2\u001b[0m \u001b[0mtotal\u001b[0m \u001b[1;33m=\u001b[0m \u001b[0mlen\u001b[0m\u001b[1;33m(\u001b[0m\u001b[0mdf\u001b[0m\u001b[1;33m.\u001b[0m\u001b[0mindex\u001b[0m\u001b[1;33m)\u001b[0m\u001b[1;33m\u001b[0m\u001b[0m\n\u001b[0;32m      3\u001b[0m \u001b[0msurvived_actual\u001b[0m \u001b[1;33m=\u001b[0m \u001b[0ms\u001b[0m\u001b[1;33m[\u001b[0m\u001b[0ms\u001b[0m\u001b[1;33m.\u001b[0m\u001b[0mmap\u001b[0m\u001b[1;33m(\u001b[0m\u001b[1;32mlambda\u001b[0m \u001b[0mx\u001b[0m\u001b[1;33m:\u001b[0m \u001b[0mx\u001b[0m\u001b[1;33m==\u001b[0m\u001b[1;36m1\u001b[0m\u001b[1;33m)\u001b[0m\u001b[1;33m]\u001b[0m\u001b[1;33m.\u001b[0m\u001b[0mshape\u001b[0m\u001b[1;33m[\u001b[0m\u001b[1;36m0\u001b[0m\u001b[1;33m]\u001b[0m \u001b[1;31m# len(filter(lambda x: x==1, s))\u001b[0m\u001b[1;33m\u001b[0m\u001b[0m\n\u001b[1;32m----> 4\u001b[1;33m \u001b[0mperished_actual\u001b[0m \u001b[1;33m=\u001b[0m \u001b[0mtotal\u001b[0m \u001b[1;33m-\u001b[0m \u001b[0msurvived\u001b[0m  \u001b[1;31m# df.shape[0] - survived\u001b[0m\u001b[1;33m\u001b[0m\u001b[0m\n\u001b[0m\u001b[0;32m      5\u001b[0m \u001b[1;32mprint\u001b[0m \u001b[1;34m\"Total passengers: %d\"\u001b[0m \u001b[1;33m%\u001b[0m \u001b[1;33m(\u001b[0m\u001b[0mtotal\u001b[0m\u001b[1;33m)\u001b[0m\u001b[1;33m\u001b[0m\u001b[0m\n\u001b[0;32m      6\u001b[0m \u001b[1;32mprint\u001b[0m \u001b[1;34m\"Actual Survived: %s | Actual Perished: %s\"\u001b[0m \u001b[1;33m%\u001b[0m \u001b[1;33m(\u001b[0m\u001b[0msurvived_actual\u001b[0m\u001b[1;33m,\u001b[0m \u001b[0mperished_actual\u001b[0m\u001b[1;33m)\u001b[0m\u001b[1;33m\u001b[0m\u001b[0m\n",
        "\u001b[1;31mNameError\u001b[0m: name 'survived' is not defined"
       ]
      }
     ],
     "prompt_number": 52
    },
    {
     "cell_type": "code",
     "collapsed": false,
     "input": [
      "survived_predicted = len(filter(lambda x: x==1, predicted.values()))\n",
      "perished_predicted = 891 - survived_predicted\n",
      "print \"Survived -- Actual: %d | Predicted: %d\" % (survived_actual, survived_predicted)\n",
      "print \"Perished -- Actual: %d | Predicted: %d\" % (perished_actual, perished_predicted)\n",
      "\n",
      "print \"Error: %d%%\" % (float(survived_actual - survived_predicted)/survived_actual*100)"
     ],
     "language": "python",
     "metadata": {},
     "outputs": []
    }
   ],
   "metadata": {}
  }
 ]
}